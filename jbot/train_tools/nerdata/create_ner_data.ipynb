{
 "cells": [
  {
   "cell_type": "code",
   "execution_count": 1,
   "metadata": {},
   "outputs": [
    {
     "name": "stdout",
     "output_type": "stream",
     "text": [
      "raw_chatbot_train_path1 = C:/Users/22668/Desktop/jbot/train_tools/qna/교내학식.xlsx\n",
      "raw_chatbot_train_path2 =  C:/Users/22668/Desktop/jbot/train_tools/qna/교내공지.xlsx\n",
      "raw_chatbot_train_path3 = C:/Users/22668/Desktop/jbot/train_tools/qna/위치.csv\n",
      "raw_chatbot_train_path4 = C:/Users/22668/Desktop/jbot/train_tools/qna/sns.xlsx\n",
      "raw_chatbot_train_path5 = C:/Users/22668/Desktop/jbot/train_tools/qna/과사무실.csv\n",
      "raw_chatbot_train_path6 = C:/Users/22668/Desktop/jbot/train_tools/qna/교내식당 운영시간.xlsx\n",
      "train_file = C:/Users/22668/Desktop/jbot/train_tools/qna/train_data.xlsx // 챗봇학습용(답변용)데이터\n",
      "user_dic_path = C:/Users/22668/Desktop/jbot/utils/jbot_dict.tsv // 사용자정의사전\n",
      "corpus_path = C:/Users/22668/Desktop/jbot/train_tools/dict/corpus.xlsx // 의도분류모델(딥러닝모델)학습용데이터\n",
      "chatbot_dict_path = C:/Users/22668/Desktop/jbot/train_tools/dict/chatbot_dict.bin // 단어-정수 매핑데이터(pytorch의 lookuptable 또는 word2index)\n",
      "intent_model_path = C:/Users/22668/Desktop/jbot/models/intent/intent_model.h5 // 학습된 의도분류모델\n",
      "intent_mapping_path = C:/Users/22668/Desktop/jbot/models/intent/intent_mapping.bin // 의도분류모델에서 사용된 레이블(y값) 정수매핑\n",
      "ner_data_path1 = C:/Users/22668/Desktop/jbot/train_tools/nerdata/교내학식 유의어.xlsx //개체명 인식을 위한 유의어 원본 데이터\n",
      "ner_data_path2 = C:/Users/22668/Desktop/jbot/train_tools/nerdata/교내공지 유의어.csv //개체명 인식을 위한 유의어 원본 데이터\n",
      "ner_data_path3 = C:/Users/22668/Desktop/jbot/train_tools/nerdata/위치 유의어.xlsx //개체명 인식을 위한 유의어 원본 데이터\n",
      "ner_data_path4 = C:/Users/22668/Desktop/jbot/train_tools/nerdata/sns 유의어.xlsx //개체명 인식을 위한 유의어 원본 데이터\n",
      "ner_data_path5 = C:/Users/22668/Desktop/jbot/train_tools/nerdata/과사무실 유의어.xlsx //개체명 인식을 위한 유의어 원본 데이터\n",
      "ner_final = C:/Users/22668/Desktop/jbot/train_tools/nerdata/유의어final.xlsx //개체명 인식을 위한 데이터\n",
      "timepoint_model_path = C:/Users/22668/Desktop/jbot/models/sub/timepoint.h5 //날짜,시간인식을 위한 모델\n",
      "jbotlog_directory_path = C:/Users/22668/Desktop/jbot/train_tools/chatlog //클라이언트로부터 받은 jbot의 로그들이 저장될 폴더이름\n"
     ]
    }
   ],
   "source": [
    "import sys\n",
    "import pymysql\n",
    "pckg_path = \"C:/Users/22668/Desktop\"\n",
    "sys.path.append(pckg_path)\n",
    "from jbot.config.DatabaseConfig import *\n",
    "from jbot.config.PathConfig import *\n",
    "from jbot.utils.Preprocess import Preprocess\n",
    "import pandas as pd\n",
    "import numpy as np\n",
    "PathConfig()"
   ]
  },
  {
   "cell_type": "code",
   "execution_count": 2,
   "metadata": {},
   "outputs": [],
   "source": [
    "def create_ner_data():\n",
    "    df1 = pd.read_excel(ner_data_path1)\n",
    "    #df2 = pd.read_csv(ner_data_path2) #공지사항은 개체분류가 필요하지 않으므로 pass\n",
    "    df3 = pd.read_excel(ner_data_path3)\n",
    "    df4 = pd.read_excel(ner_data_path4)\n",
    "    df5 = pd.read_excel(ner_data_path5)\n",
    "    df6 = pd.read_excel(ner_data_path6) \n",
    "\n",
    "    df = pd.concat([df1,df3,df4,df5,df6],axis=0)\n",
    "    #df = df.drop_duplicates()\n",
    "    #print(df)\n",
    "    \n",
    "    data = []\n",
    "    for row in df.iterrows():\n",
    "        inform = row[1]\n",
    "        var_num = len(row[1])\n",
    "        for i in range(var_num):\n",
    "            #print(i)\n",
    "            #print(inform[i])\n",
    "            if i == 0:\n",
    "                intent = inform[i]\n",
    "            elif i == 1:\n",
    "                ner = inform[i]\n",
    "            else:\n",
    "                synonym = inform[i]\n",
    "                data.append((intent,ner,synonym))\n",
    "    _df = pd.DataFrame(data)\n",
    "    _df.columns = [\"의도\",\"개체명\",\"유의어\"]\n",
    "    _df = _df.dropna(subset = [\"유의어\"])\n",
    "    _df.to_excel(ner_final)\n",
    "    return _df\n",
    "    \n",
    "_df = create_ner_data()"
   ]
  },
  {
   "cell_type": "code",
   "execution_count": 3,
   "metadata": {},
   "outputs": [
    {
     "data": {
      "text/plain": [
       "학과사무실        356\n",
       "위치           174\n",
       "교내학식          50\n",
       "교내식당 운영시간     34\n",
       "SNS안내         27\n",
       "Name: 의도, dtype: int64"
      ]
     },
     "execution_count": 3,
     "metadata": {},
     "output_type": "execute_result"
    }
   ],
   "source": [
    "_df.의도.value_counts()"
   ]
  },
  {
   "cell_type": "code",
   "execution_count": 4,
   "metadata": {},
   "outputs": [],
   "source": [
    "def add_depart():\n",
    "    개체명인식final = pd.read_excel(ner_final).drop(columns = \"Unnamed: 0\")\n",
    "    과사무실원본 = pd.read_csv(raw_chatbot_train_path5)\n",
    "    cond = 개체명인식final[\"의도\"] == \"학과사무실\"\n",
    "    개체명인식과목록 = 개체명인식final[cond]\n",
    "\n",
    "\n",
    "    전체과 = 과사무실원본[\"개체\"].unique()\n",
    "    인식가능한과 = 개체명인식과목록[\"개체명\"].unique()\n",
    "    add_data = []\n",
    "    for 과 in 전체과:\n",
    "        if 과 not in 인식가능한과:\n",
    "            add_raw = [\"학과사무실\",과,과]\n",
    "            add_data.append(add_raw)\n",
    "    add_df = pd.DataFrame(add_data)\n",
    "    add_df.columns = [\"의도\",\"개체명\",\"유의어\"]\n",
    "    _df = pd.concat([개체명인식final,add_df],axis=0).reset_index(drop = True)\n",
    "    for var_name,values in _df.iteritems():\n",
    "        lower_values = []\n",
    "        for value in values:\n",
    "            lower_value = value.lower()\n",
    "            lower_values.append(lower_value)\n",
    "        _df[var_name] = lower_values\n",
    "    return _df"
   ]
  },
  {
   "cell_type": "code",
   "execution_count": 5,
   "metadata": {},
   "outputs": [],
   "source": [
    "_df = add_depart()\n",
    "_df.to_excel(ner_final)"
   ]
  }
 ],
 "metadata": {
  "kernelspec": {
   "display_name": "Python 3.9.13 ('base')",
   "language": "python",
   "name": "python3"
  },
  "language_info": {
   "codemirror_mode": {
    "name": "ipython",
    "version": 3
   },
   "file_extension": ".py",
   "mimetype": "text/x-python",
   "name": "python",
   "nbconvert_exporter": "python",
   "pygments_lexer": "ipython3",
   "version": "3.9.13"
  },
  "orig_nbformat": 4,
  "vscode": {
   "interpreter": {
    "hash": "0478b8cb1c47bafb71305148a49d30528a4d9c22ca2de336c01aa5a8230a459a"
   }
  }
 },
 "nbformat": 4,
 "nbformat_minor": 2
}
